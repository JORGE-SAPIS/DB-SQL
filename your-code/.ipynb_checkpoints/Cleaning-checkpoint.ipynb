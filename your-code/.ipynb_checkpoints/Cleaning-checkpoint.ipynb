{
 "cells": [
  {
   "cell_type": "code",
   "execution_count": 5,
   "id": "977ef11b",
   "metadata": {},
   "outputs": [],
   "source": [
    "import pandas as pd\n",
    "import numpy as np\n",
    "import mysql.connector as conn\n",
    "from sqlalchemy import create_engine"
   ]
  },
  {
   "cell_type": "code",
   "execution_count": 6,
   "id": "50caadc7",
   "metadata": {},
   "outputs": [],
   "source": [
    "actor = pd.read_csv('../data/actor.csv')\n",
    "category = pd.read_csv('../data/category.csv')\n",
    "film = pd.read_csv('../data/film.csv')\n",
    "inventory = pd.read_csv('../data/inventory.csv')\n",
    "language = pd.read_csv('../data/language.csv')\n",
    "old_HDD = pd.read_csv('../data/old_HDD.csv')\n",
    "rental = pd.read_csv('../data/rental.csv')\n"
   ]
  },
  {
   "cell_type": "code",
   "execution_count": 7,
   "id": "b1ce941b",
   "metadata": {},
   "outputs": [],
   "source": [
    "actor = pd.DataFrame(actor)\n",
    "category = pd.DataFrame(category)\n",
    "film = pd.DataFrame(film)\n",
    "inventory = pd.DataFrame(inventory)\n",
    "language = pd.DataFrame(language)\n",
    "old_HDD = pd.DataFrame(old_HDD)\n",
    "rental = pd.DataFrame(rental)"
   ]
  },
  {
   "cell_type": "code",
   "execution_count": 8,
   "id": "84974072",
   "metadata": {},
   "outputs": [
    {
     "name": "stdout",
     "output_type": "stream",
     "text": [
      "1000\n"
     ]
    }
   ],
   "source": [
    "lst = [actor, category, film, inventory, language, old_HDD, rental]\n",
    "table_names = ['actor', 'category', 'film', 'inventory', 'language', 'old_HDD', 'rental']\n",
    "for e in range(len(lst)):\n",
    "    for t in lst[e]:\n",
    "        if lst[e][t].isna().sum() > 0:\n",
    "            print(lst[e][t].isna().sum())\n",
    "    \n"
   ]
  },
  {
   "cell_type": "code",
   "execution_count": 9,
   "id": "f0e01a31",
   "metadata": {},
   "outputs": [
    {
     "name": "stdout",
     "output_type": "stream",
     "text": [
      "0     NaN\n",
      "1     NaN\n",
      "2     NaN\n",
      "3     NaN\n",
      "4     NaN\n",
      "       ..\n",
      "995   NaN\n",
      "996   NaN\n",
      "997   NaN\n",
      "998   NaN\n",
      "999   NaN\n",
      "Name: original_language_id, Length: 1000, dtype: float64\n"
     ]
    }
   ],
   "source": [
    "for e in range(len(lst)):\n",
    "    for t in lst[e]:\n",
    "        if lst[e][t].isna().sum() > 0:\n",
    "            print(lst[e][t])"
   ]
  },
  {
   "cell_type": "code",
   "execution_count": 10,
   "id": "9f1d0529",
   "metadata": {},
   "outputs": [
    {
     "data": {
      "text/plain": [
       "language_id    0\n",
       "name           0\n",
       "last_update    0\n",
       "dtype: int64"
      ]
     },
     "execution_count": 10,
     "metadata": {},
     "output_type": "execute_result"
    }
   ],
   "source": [
    "language.isna().sum()"
   ]
  },
  {
   "cell_type": "code",
   "execution_count": 11,
   "id": "3d4685a9",
   "metadata": {},
   "outputs": [
    {
     "data": {
      "text/plain": [
       "0"
      ]
     },
     "execution_count": 11,
     "metadata": {},
     "output_type": "execute_result"
    }
   ],
   "source": [
    "actor['actor_id'].isna().sum()"
   ]
  },
  {
   "cell_type": "code",
   "execution_count": 12,
   "id": "66812117",
   "metadata": {},
   "outputs": [
    {
     "name": "stdout",
     "output_type": "stream",
     "text": [
      "0\n",
      "0\n",
      "0\n"
     ]
    }
   ],
   "source": [
    "for e in lst[1]:\n",
    "    print(lst[1][e].isna().sum())"
   ]
  },
  {
   "cell_type": "code",
   "execution_count": 13,
   "id": "fded5ac9",
   "metadata": {},
   "outputs": [
    {
     "data": {
      "text/html": [
       "<div>\n",
       "<style scoped>\n",
       "    .dataframe tbody tr th:only-of-type {\n",
       "        vertical-align: middle;\n",
       "    }\n",
       "\n",
       "    .dataframe tbody tr th {\n",
       "        vertical-align: top;\n",
       "    }\n",
       "\n",
       "    .dataframe thead th {\n",
       "        text-align: right;\n",
       "    }\n",
       "</style>\n",
       "<table border=\"1\" class=\"dataframe\">\n",
       "  <thead>\n",
       "    <tr style=\"text-align: right;\">\n",
       "      <th></th>\n",
       "      <th>actor_id</th>\n",
       "      <th>first_name</th>\n",
       "      <th>last_name</th>\n",
       "      <th>last_update</th>\n",
       "    </tr>\n",
       "  </thead>\n",
       "  <tbody>\n",
       "    <tr>\n",
       "      <th>0</th>\n",
       "      <td>1</td>\n",
       "      <td>PENELOPE</td>\n",
       "      <td>GUINESS</td>\n",
       "      <td>2006-02-15 04:34:33</td>\n",
       "    </tr>\n",
       "    <tr>\n",
       "      <th>1</th>\n",
       "      <td>2</td>\n",
       "      <td>NICK</td>\n",
       "      <td>WAHLBERG</td>\n",
       "      <td>2006-02-15 04:34:33</td>\n",
       "    </tr>\n",
       "    <tr>\n",
       "      <th>2</th>\n",
       "      <td>3</td>\n",
       "      <td>ED</td>\n",
       "      <td>CHASE</td>\n",
       "      <td>2006-02-15 04:34:33</td>\n",
       "    </tr>\n",
       "    <tr>\n",
       "      <th>3</th>\n",
       "      <td>4</td>\n",
       "      <td>JENNIFER</td>\n",
       "      <td>DAVIS</td>\n",
       "      <td>2006-02-15 04:34:33</td>\n",
       "    </tr>\n",
       "    <tr>\n",
       "      <th>4</th>\n",
       "      <td>5</td>\n",
       "      <td>JOHNNY</td>\n",
       "      <td>LOLLOBRIGIDA</td>\n",
       "      <td>2006-02-15 04:34:33</td>\n",
       "    </tr>\n",
       "    <tr>\n",
       "      <th>...</th>\n",
       "      <td>...</td>\n",
       "      <td>...</td>\n",
       "      <td>...</td>\n",
       "      <td>...</td>\n",
       "    </tr>\n",
       "    <tr>\n",
       "      <th>195</th>\n",
       "      <td>196</td>\n",
       "      <td>BELA</td>\n",
       "      <td>WALKEN</td>\n",
       "      <td>2006-02-15 04:34:33</td>\n",
       "    </tr>\n",
       "    <tr>\n",
       "      <th>196</th>\n",
       "      <td>197</td>\n",
       "      <td>REESE</td>\n",
       "      <td>WEST</td>\n",
       "      <td>2006-02-15 04:34:33</td>\n",
       "    </tr>\n",
       "    <tr>\n",
       "      <th>197</th>\n",
       "      <td>198</td>\n",
       "      <td>MARY</td>\n",
       "      <td>KEITEL</td>\n",
       "      <td>2006-02-15 04:34:33</td>\n",
       "    </tr>\n",
       "    <tr>\n",
       "      <th>198</th>\n",
       "      <td>199</td>\n",
       "      <td>JULIA</td>\n",
       "      <td>FAWCETT</td>\n",
       "      <td>2006-02-15 04:34:33</td>\n",
       "    </tr>\n",
       "    <tr>\n",
       "      <th>199</th>\n",
       "      <td>200</td>\n",
       "      <td>THORA</td>\n",
       "      <td>TEMPLE</td>\n",
       "      <td>2006-02-15 04:34:33</td>\n",
       "    </tr>\n",
       "  </tbody>\n",
       "</table>\n",
       "<p>200 rows × 4 columns</p>\n",
       "</div>"
      ],
      "text/plain": [
       "     actor_id first_name     last_name          last_update\n",
       "0           1   PENELOPE       GUINESS  2006-02-15 04:34:33\n",
       "1           2       NICK      WAHLBERG  2006-02-15 04:34:33\n",
       "2           3         ED         CHASE  2006-02-15 04:34:33\n",
       "3           4   JENNIFER         DAVIS  2006-02-15 04:34:33\n",
       "4           5     JOHNNY  LOLLOBRIGIDA  2006-02-15 04:34:33\n",
       "..        ...        ...           ...                  ...\n",
       "195       196       BELA        WALKEN  2006-02-15 04:34:33\n",
       "196       197      REESE          WEST  2006-02-15 04:34:33\n",
       "197       198       MARY        KEITEL  2006-02-15 04:34:33\n",
       "198       199      JULIA       FAWCETT  2006-02-15 04:34:33\n",
       "199       200      THORA        TEMPLE  2006-02-15 04:34:33\n",
       "\n",
       "[200 rows x 4 columns]"
      ]
     },
     "execution_count": 13,
     "metadata": {},
     "output_type": "execute_result"
    }
   ],
   "source": [
    "lst[0]"
   ]
  },
  {
   "cell_type": "code",
   "execution_count": 14,
   "id": "bd420863",
   "metadata": {},
   "outputs": [
    {
     "name": "stdout",
     "output_type": "stream",
     "text": [
      "actor_id       0\n",
      "first_name     0\n",
      "last_name      0\n",
      "last_update    0\n",
      "dtype: int64 index =  0\n",
      "category_id    0\n",
      "name           0\n",
      "last_update    0\n",
      "dtype: int64 index =  1\n",
      "film_id                    0\n",
      "title                      0\n",
      "description                0\n",
      "release_year               0\n",
      "language_id                0\n",
      "original_language_id    1000\n",
      "rental_duration            0\n",
      "rental_rate                0\n",
      "length                     0\n",
      "replacement_cost           0\n",
      "rating                     0\n",
      "special_features           0\n",
      "last_update                0\n",
      "dtype: int64 index =  2\n",
      "inventory_id    0\n",
      "film_id         0\n",
      "store_id        0\n",
      "last_update     0\n",
      "dtype: int64 index =  3\n",
      "language_id    0\n",
      "name           0\n",
      "last_update    0\n",
      "dtype: int64 index =  4\n",
      "first_name      0\n",
      "last_name       0\n",
      "title           0\n",
      "release_year    0\n",
      "category_id     0\n",
      "dtype: int64 index =  5\n",
      "rental_id       0\n",
      "rental_date     0\n",
      "inventory_id    0\n",
      "customer_id     0\n",
      "return_date     0\n",
      "staff_id        0\n",
      "last_update     0\n",
      "dtype: int64 index =  6\n"
     ]
    }
   ],
   "source": [
    "for e in range(len(lst)):\n",
    "    print(lst[e].isna().sum(), \"index = \", e)"
   ]
  },
  {
   "cell_type": "code",
   "execution_count": 15,
   "id": "c68bf481",
   "metadata": {},
   "outputs": [],
   "source": [
    "#film_v2 = film.to_csv(r'C:\\Users\\jvaym\\Desktop\\IRONHACK\\Semana3\\DB-SQL\\data\\film_v2.csv')"
   ]
  },
  {
   "cell_type": "code",
   "execution_count": 16,
   "id": "03e8baab",
   "metadata": {},
   "outputs": [
    {
     "name": "stdout",
     "output_type": "stream",
     "text": [
      "<class 'pandas.core.frame.DataFrame'>\n",
      "RangeIndex: 1000 entries, 0 to 999\n",
      "Data columns (total 13 columns):\n",
      " #   Column                Non-Null Count  Dtype  \n",
      "---  ------                --------------  -----  \n",
      " 0   film_id               1000 non-null   int64  \n",
      " 1   title                 1000 non-null   object \n",
      " 2   description           1000 non-null   object \n",
      " 3   release_year          1000 non-null   int64  \n",
      " 4   language_id           1000 non-null   int64  \n",
      " 5   original_language_id  0 non-null      float64\n",
      " 6   rental_duration       1000 non-null   int64  \n",
      " 7   rental_rate           1000 non-null   float64\n",
      " 8   length                1000 non-null   int64  \n",
      " 9   replacement_cost      1000 non-null   float64\n",
      " 10  rating                1000 non-null   object \n",
      " 11  special_features      1000 non-null   object \n",
      " 12  last_update           1000 non-null   object \n",
      "dtypes: float64(3), int64(5), object(5)\n",
      "memory usage: 101.7+ KB\n"
     ]
    }
   ],
   "source": [
    "film.info()"
   ]
  },
  {
   "cell_type": "code",
   "execution_count": 17,
   "id": "c732e9de",
   "metadata": {},
   "outputs": [],
   "source": [
    "film.drop('last_update', axis = 1, inplace = True)"
   ]
  },
  {
   "cell_type": "code",
   "execution_count": 18,
   "id": "f0ddf0e3",
   "metadata": {},
   "outputs": [],
   "source": [
    "for e in lst: # Borramos la columna last update de todas las tablas\n",
    "    try:\n",
    "        e.drop('last_update', axis = 1, inplace = True)\n",
    "    except:\n",
    "        continue"
   ]
  },
  {
   "cell_type": "code",
   "execution_count": 19,
   "id": "b42a4d21",
   "metadata": {},
   "outputs": [
    {
     "data": {
      "text/plain": [
       "'actor_id'"
      ]
     },
     "execution_count": 19,
     "metadata": {},
     "output_type": "execute_result"
    }
   ],
   "source": [
    "list((actor.columns))[0]"
   ]
  },
  {
   "cell_type": "code",
   "execution_count": 20,
   "id": "b7e385fb",
   "metadata": {},
   "outputs": [],
   "source": [
    "colum_tablas = []\n",
    "for e in range(len(lst)):\n",
    "    colum_tablas.append(list(lst[e].columns))"
   ]
  },
  {
   "cell_type": "code",
   "execution_count": 21,
   "id": "e892696b",
   "metadata": {},
   "outputs": [],
   "source": [
    "colum_tablas2 = []\n",
    "for e in range(len(colum_tablas)):\n",
    "    for u in range(len(colum_tablas[e])):\n",
    "        colum_tablas2.append(colum_tablas[e][u])\n",
    "    "
   ]
  },
  {
   "cell_type": "code",
   "execution_count": 22,
   "id": "07b3bb1f",
   "metadata": {},
   "outputs": [
    {
     "data": {
      "text/plain": [
       "33"
      ]
     },
     "execution_count": 22,
     "metadata": {},
     "output_type": "execute_result"
    }
   ],
   "source": [
    "len(colum_tablas2)\n",
    "\n"
   ]
  },
  {
   "cell_type": "code",
   "execution_count": 23,
   "id": "e6b5ef53",
   "metadata": {},
   "outputs": [],
   "source": [
    "lst_1 = {}\n",
    "\n",
    "for i, e in enumerate(lst):\n",
    "    lst_1[i]=list(e.columns)\n",
    "    "
   ]
  },
  {
   "cell_type": "code",
   "execution_count": 24,
   "id": "c6e9bbb9",
   "metadata": {},
   "outputs": [
    {
     "data": {
      "text/plain": [
       "{0: ['actor_id', 'first_name', 'last_name'],\n",
       " 1: ['category_id', 'name'],\n",
       " 2: ['film_id',\n",
       "  'title',\n",
       "  'description',\n",
       "  'release_year',\n",
       "  'language_id',\n",
       "  'original_language_id',\n",
       "  'rental_duration',\n",
       "  'rental_rate',\n",
       "  'length',\n",
       "  'replacement_cost',\n",
       "  'rating',\n",
       "  'special_features'],\n",
       " 3: ['inventory_id', 'film_id', 'store_id'],\n",
       " 4: ['language_id', 'name'],\n",
       " 5: ['first_name', 'last_name', 'title', 'release_year', 'category_id'],\n",
       " 6: ['rental_id',\n",
       "  'rental_date',\n",
       "  'inventory_id',\n",
       "  'customer_id',\n",
       "  'return_date',\n",
       "  'staff_id']}"
      ]
     },
     "execution_count": 24,
     "metadata": {},
     "output_type": "execute_result"
    }
   ],
   "source": [
    "lst_1"
   ]
  },
  {
   "cell_type": "code",
   "execution_count": 25,
   "id": "6dc75615",
   "metadata": {},
   "outputs": [
    {
     "name": "stdout",
     "output_type": "stream",
     "text": [
      "0\n",
      "1\n",
      "2\n",
      "3\n",
      "4\n",
      "5\n",
      "6\n"
     ]
    }
   ],
   "source": [
    "for i, e in enumerate(lst):\n",
    "    print(i)"
   ]
  },
  {
   "cell_type": "code",
   "execution_count": 26,
   "id": "9135a58a",
   "metadata": {},
   "outputs": [
    {
     "name": "stdout",
     "output_type": "stream",
     "text": [
      "['actor_id', 'first_name', 'last_name']\n",
      "['category_id', 'name']\n",
      "['film_id', 'title', 'description', 'release_year', 'language_id', 'original_language_id', 'rental_duration', 'rental_rate', 'length', 'replacement_cost', 'rating', 'special_features']\n",
      "['inventory_id', 'film_id', 'store_id']\n",
      "['language_id', 'name']\n",
      "['first_name', 'last_name', 'title', 'release_year', 'category_id']\n",
      "['rental_id', 'rental_date', 'inventory_id', 'customer_id', 'return_date', 'staff_id']\n"
     ]
    }
   ],
   "source": [
    "for i in lst_1:\n",
    "    print(lst_1[i])"
   ]
  },
  {
   "cell_type": "code",
   "execution_count": 27,
   "id": "d505d520",
   "metadata": {},
   "outputs": [
    {
     "data": {
      "text/plain": [
       "'    category_id         name\\n0             1       Action\\n1             2    Animation\\n2             3     Children\\n3             4     Classics\\n4             5       Comedy\\n5             6  Documentary\\n6             7        Drama\\n7             8       Family\\n8             9      Foreign\\n9            10        Games\\n10           11       Horror\\n11           12        Music\\n12           13          New\\n13           14       Sci-Fi\\n14           15       Sports\\n15           16       Travel'"
      ]
     },
     "execution_count": 27,
     "metadata": {},
     "output_type": "execute_result"
    }
   ],
   "source": [
    "str(lst[1])"
   ]
  },
  {
   "cell_type": "code",
   "execution_count": 28,
   "id": "bf688634",
   "metadata": {},
   "outputs": [],
   "source": [
    "lst_2 = {}\n",
    "for e in lst_1:\n",
    "    lst_2[table_names[e]] = lst_1[e]"
   ]
  },
  {
   "cell_type": "code",
   "execution_count": 29,
   "id": "d720cacb",
   "metadata": {},
   "outputs": [
    {
     "data": {
      "text/plain": [
       "{'actor': ['actor_id', 'first_name', 'last_name'],\n",
       " 'category': ['category_id', 'name'],\n",
       " 'film': ['film_id',\n",
       "  'title',\n",
       "  'description',\n",
       "  'release_year',\n",
       "  'language_id',\n",
       "  'original_language_id',\n",
       "  'rental_duration',\n",
       "  'rental_rate',\n",
       "  'length',\n",
       "  'replacement_cost',\n",
       "  'rating',\n",
       "  'special_features'],\n",
       " 'inventory': ['inventory_id', 'film_id', 'store_id'],\n",
       " 'language': ['language_id', 'name'],\n",
       " 'old_HDD': ['first_name',\n",
       "  'last_name',\n",
       "  'title',\n",
       "  'release_year',\n",
       "  'category_id'],\n",
       " 'rental': ['rental_id',\n",
       "  'rental_date',\n",
       "  'inventory_id',\n",
       "  'customer_id',\n",
       "  'return_date',\n",
       "  'staff_id']}"
      ]
     },
     "execution_count": 29,
     "metadata": {},
     "output_type": "execute_result"
    }
   ],
   "source": [
    "lst_2 # Esta es la lista de tablas con sus columnas"
   ]
  },
  {
   "cell_type": "code",
   "execution_count": 30,
   "id": "ded97d28",
   "metadata": {},
   "outputs": [
    {
     "name": "stdout",
     "output_type": "stream",
     "text": [
      "actor_id actor\n",
      "first_name actor\n",
      "last_name actor\n",
      "category_id category\n",
      "name category\n",
      "film_id film\n",
      "title film\n",
      "description film\n",
      "release_year film\n",
      "language_id film\n",
      "original_language_id film\n",
      "rental_duration film\n",
      "rental_rate film\n",
      "length film\n",
      "replacement_cost film\n",
      "rating film\n",
      "special_features film\n",
      "inventory_id inventory\n",
      "film_id inventory\n",
      "store_id inventory\n",
      "language_id language\n",
      "name language\n",
      "first_name old_HDD\n",
      "last_name old_HDD\n",
      "title old_HDD\n",
      "release_year old_HDD\n",
      "category_id old_HDD\n",
      "rental_id rental\n",
      "rental_date rental\n",
      "inventory_id rental\n",
      "customer_id rental\n",
      "return_date rental\n",
      "staff_id rental\n"
     ]
    }
   ],
   "source": [
    "for i, e in lst_2.items():\n",
    "    for e in range(len(lst_2[i])):\n",
    "        print(lst_2[i][e], i)"
   ]
  },
  {
   "cell_type": "code",
   "execution_count": 31,
   "id": "351cb4b8",
   "metadata": {},
   "outputs": [],
   "source": [
    "lst_2.get('staff_id')"
   ]
  },
  {
   "cell_type": "code",
   "execution_count": 32,
   "id": "b2ae74c2",
   "metadata": {},
   "outputs": [],
   "source": [
    "if 'staff_id' in lst_2:\n",
    "    print('sii')"
   ]
  },
  {
   "cell_type": "code",
   "execution_count": 33,
   "id": "c97ed81c",
   "metadata": {},
   "outputs": [
    {
     "name": "stdout",
     "output_type": "stream",
     "text": [
      "actor_id actor\n",
      "first_name actor\n",
      "last_name actor\n",
      "category_id category\n",
      "name category\n",
      "film_id film\n",
      "title film\n",
      "description film\n",
      "release_year film\n",
      "language_id film\n",
      "original_language_id film\n",
      "rental_duration film\n",
      "rental_rate film\n",
      "length film\n",
      "replacement_cost film\n",
      "rating film\n",
      "special_features film\n",
      "inventory_id inventory\n",
      "film_id inventory\n",
      "store_id inventory\n",
      "language_id language\n",
      "name language\n",
      "first_name old_HDD\n",
      "last_name old_HDD\n",
      "title old_HDD\n",
      "release_year old_HDD\n",
      "category_id old_HDD\n",
      "rental_id rental\n",
      "rental_date rental\n",
      "inventory_id rental\n",
      "customer_id rental\n",
      "return_date rental\n",
      "staff_id rental\n"
     ]
    }
   ],
   "source": [
    "for i, e in lst_2.items():\n",
    "    for t in range(len(lst_2[i])):\n",
    "        print(lst_2[i][t], i)"
   ]
  },
  {
   "cell_type": "code",
   "execution_count": 34,
   "id": "c90a68a7",
   "metadata": {},
   "outputs": [
    {
     "data": {
      "text/plain": [
       "'actor_id'"
      ]
     },
     "execution_count": 34,
     "metadata": {},
     "output_type": "execute_result"
    }
   ],
   "source": [
    "lst_2['actor'][0]"
   ]
  },
  {
   "cell_type": "code",
   "execution_count": 35,
   "id": "acea6703",
   "metadata": {},
   "outputs": [
    {
     "name": "stdout",
     "output_type": "stream",
     "text": [
      "first_name [ old_HDD ] Se junta con first_name actor\n",
      "last_name [ old_HDD ] Se junta con last_name actor\n",
      "category_id [ old_HDD ] Se junta con category_id category\n",
      "name [ language ] Se junta con name category\n",
      "film_id [ inventory ] Se junta con film_id film\n",
      "title [ old_HDD ] Se junta con title film\n",
      "release_year [ old_HDD ] Se junta con release_year film\n",
      "language_id [ language ] Se junta con language_id film\n",
      "inventory_id [ rental ] Se junta con inventory_id inventory\n",
      "film_id [ film ] Se junta con film_id inventory\n",
      "language_id [ film ] Se junta con language_id language\n",
      "name [ category ] Se junta con name language\n",
      "first_name [ actor ] Se junta con first_name old_HDD\n",
      "last_name [ actor ] Se junta con last_name old_HDD\n",
      "title [ film ] Se junta con title old_HDD\n",
      "release_year [ film ] Se junta con release_year old_HDD\n",
      "category_id [ category ] Se junta con category_id old_HDD\n",
      "inventory_id [ inventory ] Se junta con inventory_id rental\n"
     ]
    }
   ],
   "source": [
    "relaciones = {}\n",
    "for i, p in lst_2.items():\n",
    "    for e in range(len(lst_2[i])):\n",
    "        #print(lst_2[i][e])\n",
    "        for u, o in lst_2.items():\n",
    "            for t in range(len(lst_2[u])):\n",
    "                if lst_2[i][e] == lst_2[u][t] and u != i:\n",
    "                    relaciones[lst_2[u][t]] = [u, i]\n",
    "                    print(lst_2[u][t], \"[\", u, \"]\",  \"Se junta con\", lst_2[i][e], i)"
   ]
  },
  {
   "cell_type": "code",
   "execution_count": 36,
   "id": "5b5d376e",
   "metadata": {},
   "outputs": [
    {
     "data": {
      "text/plain": [
       "{'first_name': ['actor', 'old_HDD'],\n",
       " 'last_name': ['actor', 'old_HDD'],\n",
       " 'category_id': ['category', 'old_HDD'],\n",
       " 'name': ['category', 'language'],\n",
       " 'film_id': ['film', 'inventory'],\n",
       " 'title': ['film', 'old_HDD'],\n",
       " 'release_year': ['film', 'old_HDD'],\n",
       " 'language_id': ['film', 'language'],\n",
       " 'inventory_id': ['inventory', 'rental']}"
      ]
     },
     "execution_count": 36,
     "metadata": {},
     "output_type": "execute_result"
    }
   ],
   "source": [
    "relaciones"
   ]
  },
  {
   "cell_type": "code",
   "execution_count": 37,
   "id": "0cf1558a",
   "metadata": {},
   "outputs": [
    {
     "data": {
      "text/plain": [
       "{'actor': ['actor_id', 'first_name', 'last_name'],\n",
       " 'category': ['category_id', 'name'],\n",
       " 'film': ['film_id',\n",
       "  'title',\n",
       "  'description',\n",
       "  'release_year',\n",
       "  'language_id',\n",
       "  'original_language_id',\n",
       "  'rental_duration',\n",
       "  'rental_rate',\n",
       "  'length',\n",
       "  'replacement_cost',\n",
       "  'rating',\n",
       "  'special_features'],\n",
       " 'inventory': ['inventory_id', 'film_id', 'store_id'],\n",
       " 'language': ['language_id', 'name'],\n",
       " 'old_HDD': ['first_name',\n",
       "  'last_name',\n",
       "  'title',\n",
       "  'release_year',\n",
       "  'category_id'],\n",
       " 'rental': ['rental_id',\n",
       "  'rental_date',\n",
       "  'inventory_id',\n",
       "  'customer_id',\n",
       "  'return_date',\n",
       "  'staff_id']}"
      ]
     },
     "execution_count": 37,
     "metadata": {},
     "output_type": "execute_result"
    }
   ],
   "source": [
    "lst_2"
   ]
  },
  {
   "cell_type": "code",
   "execution_count": 38,
   "id": "1511ba4a",
   "metadata": {},
   "outputs": [],
   "source": [
    "import datetime\n",
    "rental = rental.astype({'return_date': 'datetime64'})"
   ]
  },
  {
   "cell_type": "code",
   "execution_count": 39,
   "id": "d9a4897f",
   "metadata": {},
   "outputs": [
    {
     "data": {
      "text/plain": [
       "pandas._libs.tslibs.timestamps.Timestamp"
      ]
     },
     "execution_count": 39,
     "metadata": {},
     "output_type": "execute_result"
    }
   ],
   "source": [
    "type(rental['return_date'][0])"
   ]
  },
  {
   "cell_type": "code",
   "execution_count": 40,
   "id": "46098b96",
   "metadata": {},
   "outputs": [],
   "source": [
    "new_tables = []\n",
    "for e in range(len(table_names)):\n",
    "    new_tables.append(table_names[e] + \"_v2\")\n"
   ]
  },
  {
   "cell_type": "code",
   "execution_count": 41,
   "id": "216763fa",
   "metadata": {},
   "outputs": [
    {
     "data": {
      "text/plain": [
       "['actor_v2',\n",
       " 'category_v2',\n",
       " 'film_v2',\n",
       " 'inventory_v2',\n",
       " 'language_v2',\n",
       " 'old_HDD_v2',\n",
       " 'rental_v2']"
      ]
     },
     "execution_count": 41,
     "metadata": {},
     "output_type": "execute_result"
    }
   ],
   "source": [
    "new_tables"
   ]
  },
  {
   "cell_type": "code",
   "execution_count": 42,
   "id": "78cdd780",
   "metadata": {},
   "outputs": [],
   "source": [
    "actor_v2 = actor.to_csv(r'C:\\Users\\jvaym\\Desktop\\IRONHACK\\Semana3\\DB-SQL\\data\\actor_v2.csv', index = False)\n",
    "category_v2 = category.to_csv(r'C:\\Users\\jvaym\\Desktop\\IRONHACK\\Semana3\\DB-SQL\\data\\category_v2.csv', index = False)\n",
    "inventory_v2 = inventory.to_csv(r'C:\\Users\\jvaym\\Desktop\\IRONHACK\\Semana3\\DB-SQL\\data\\inventory_v2.csv', index = False)\n",
    "language_v2 = language.to_csv(r'C:\\Users\\jvaym\\Desktop\\IRONHACK\\Semana3\\DB-SQL\\data\\language_v2.csv', index = False)\n",
    "old_HDD_v2 = old_HDD.to_csv(r'C:\\Users\\jvaym\\Desktop\\IRONHACK\\Semana3\\DB-SQL\\data\\old_HDD_v2.csv', index = False)\n",
    "rental_v2 = rental.to_csv(r'C:\\Users\\jvaym\\Desktop\\IRONHACK\\Semana3\\DB-SQL\\data\\rental_v2.csv', index = False)"
   ]
  },
  {
   "cell_type": "code",
   "execution_count": 43,
   "id": "d52e678f",
   "metadata": {},
   "outputs": [],
   "source": [
    "film_v2 = film.to_csv(r'C:\\Users\\jvaym\\Desktop\\IRONHACK\\Semana3\\DB-SQL\\data\\film_v2.csv', index = False)"
   ]
  },
  {
   "cell_type": "code",
   "execution_count": 44,
   "id": "013d77d5",
   "metadata": {},
   "outputs": [],
   "source": [
    "#SQL y PANDAS\n",
    "str_conn='mysql+pymysql://root:##@localhost:3306/celuloide'\n",
    "cursor=create_engine(str_conn)"
   ]
  },
  {
   "cell_type": "code",
   "execution_count": 45,
   "id": "af41170f",
   "metadata": {},
   "outputs": [
    {
     "name": "stderr",
     "output_type": "stream",
     "text": [
      "C:\\Users\\jvaym\\anaconda3\\lib\\site-packages\\pandas\\io\\sql.py:1685: UserWarning: The provided table name 'old_HDD' is not found exactly as such in the database after writing the table, possibly due to case sensitivity issues. Consider using lower case table names.\n",
      "  warnings.warn(msg, UserWarning)\n"
     ]
    }
   ],
   "source": [
    "actor.to_sql(name='actor', con=cursor, if_exists='fail', index=False)\n",
    "category.to_sql(name='category', con=cursor, if_exists='fail', index=False)\n",
    "film.to_sql(name='film', con=cursor, if_exists='fail', index=False)\n",
    "inventory.to_sql(name='inventory', con=cursor, if_exists='fail', index=False)\n",
    "language.to_sql(name='language', con=cursor, if_exists='fail', index=False)\n",
    "old_HDD.to_sql(name='old_HDD', con=cursor, if_exists='fail', index=False)\n",
    "rental.to_sql(name='rental', con=cursor, if_exists='fail', index=False)"
   ]
  },
  {
   "cell_type": "code",
   "execution_count": 94,
   "id": "4d56bec1",
   "metadata": {},
   "outputs": [
    {
     "data": {
      "text/plain": [
       "dict_keys(['actor', 'category', 'film', 'inventory', 'language', 'old_HDD', 'rental'])"
      ]
     },
     "execution_count": 94,
     "metadata": {},
     "output_type": "execute_result"
    }
   ],
   "source": [
    "lst_2.keys()"
   ]
  },
  {
   "cell_type": "code",
   "execution_count": 95,
   "id": "e8bbc5fe",
   "metadata": {},
   "outputs": [
    {
     "data": {
      "text/plain": [
       "{'first_name': ['actor', 'old_HDD'],\n",
       " 'last_name': ['actor', 'old_HDD'],\n",
       " 'category_id': ['category', 'old_HDD'],\n",
       " 'name': ['category', 'language'],\n",
       " 'film_id': ['film', 'inventory'],\n",
       " 'title': ['film', 'old_HDD'],\n",
       " 'release_year': ['film', 'old_HDD'],\n",
       " 'language_id': ['film', 'language'],\n",
       " 'inventory_id': ['inventory', 'rental']}"
      ]
     },
     "execution_count": 95,
     "metadata": {},
     "output_type": "execute_result"
    }
   ],
   "source": [
    "relaciones"
   ]
  },
  {
   "cell_type": "code",
   "execution_count": null,
   "id": "dcd2f055",
   "metadata": {},
   "outputs": [],
   "source": []
  },
  {
   "cell_type": "code",
   "execution_count": null,
   "id": "eec95b64",
   "metadata": {},
   "outputs": [],
   "source": []
  }
 ],
 "metadata": {
  "kernelspec": {
   "display_name": "Python 3 (ipykernel)",
   "language": "python",
   "name": "python3"
  },
  "language_info": {
   "codemirror_mode": {
    "name": "ipython",
    "version": 3
   },
   "file_extension": ".py",
   "mimetype": "text/x-python",
   "name": "python",
   "nbconvert_exporter": "python",
   "pygments_lexer": "ipython3",
   "version": "3.9.7"
  }
 },
 "nbformat": 4,
 "nbformat_minor": 5
}
